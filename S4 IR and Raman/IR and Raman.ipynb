{
 "cells": [
  {
   "cell_type": "code",
   "execution_count": 1,
   "id": "157f30f6-220e-40fe-ac8a-57e0e87f8294",
   "metadata": {},
   "outputs": [],
   "source": [
    "import numpy as np\n",
    "import matplotlib.pyplot as plt\n"
   ]
  },
  {
   "cell_type": "markdown",
   "id": "46595c00-502f-47ef-bfb0-1f2714244789",
   "metadata": {},
   "source": [
    "What students need to do:\n",
    " - [ ] Import Psi4 - set up an environment or work on ChemCompute!\n",
    " - [ ] Perform calculations on a couple of molecules. For the purpose of this planning, just pick one.\n",
    " - [ ] Import spectra\n",
    " - [ ] Find peaks in spectra\n",
    " - [ ] Tabulate peaks and compare"
   ]
  },
  {
   "cell_type": "code",
   "execution_count": 2,
   "id": "d2a4d406-9891-4a25-9d77-d379caad8481",
   "metadata": {},
   "outputs": [
    {
     "name": "stdin",
     "output_type": "stream",
     "text": [
      "here is a question!  answer\n"
     ]
    },
    {
     "data": {
      "text/plain": [
       "'answer'"
      ]
     },
     "execution_count": 2,
     "metadata": {},
     "output_type": "execute_result"
    }
   ],
   "source": [
    "input(\"here is a question! \")"
   ]
  },
  {
   "cell_type": "code",
   "execution_count": null,
   "id": "836ab477-f847-4421-835e-c222d3ef43ad",
   "metadata": {},
   "outputs": [],
   "source": []
  }
 ],
 "metadata": {
  "kernelspec": {
   "display_name": "Python 3 (ipykernel)",
   "language": "python",
   "name": "python3"
  },
  "language_info": {
   "codemirror_mode": {
    "name": "ipython",
    "version": 3
   },
   "file_extension": ".py",
   "mimetype": "text/x-python",
   "name": "python",
   "nbconvert_exporter": "python",
   "pygments_lexer": "ipython3",
   "version": "3.12.5"
  }
 },
 "nbformat": 4,
 "nbformat_minor": 5
}
