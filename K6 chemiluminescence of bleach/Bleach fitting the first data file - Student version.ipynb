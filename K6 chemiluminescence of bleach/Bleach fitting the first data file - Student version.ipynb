{
 "cells": [
  {
   "cell_type": "code",
   "execution_count": 1,
   "id": "4e22868b-9620-4d7b-ae92-be7d08701589",
   "metadata": {},
   "outputs": [],
   "source": [
    "import numpy as np\n",
    "import matplotlib.pyplot as plt\n",
    "from scipy.optimize import curve_fit\n",
    "from scipy.signal import find_peaks"
   ]
  },
  {
   "cell_type": "markdown",
   "id": "0f2181be-c620-4f23-9d43-1178b53fe5a9",
   "metadata": {},
   "source": [
    "# Creating a data analysis pipeline: chemiluminescence of bleach\n",
    "\n",
    "It's common to have a set of data files that all need to be analyzed in the same manner. If you have two data sets, doing them by hand might be easy. At ten, it gets repetative. But by 100 or 1000 you need to find ways to automate as much of the analysis as possible. The process of analyzing a large number of similar datasets is called a data analysis pipeline. In this module, you'll learn some skills to help you begin to automate your own data analysis and create a pipline.\n",
    "\n",
    "The sample dataset here is chemiluminesnce of bleach. Experimentally, solutions of bleach are combined with luminol and peroxide at varying concentrations. The resulting chemilumenesce is recorded over time. Each data set shows an initial fast rise due to the combination of the samples, then a slow decay. That decay trace can be analyzed to understand the kinetics of the reaction. The first step in the analysis is to fit each dataset to a decaying exponential and extract fit parameters.\n",
    "\n",
    "This analysis is split into two files. This file is the first one, showing you how to fit one dataset in a way that makes repeated fitting easy. If you're familiar with fitting you can skip straight to the second, which shows you a few ways to put together your analysis pipline.\n",
    "\n",
    "Skills in this notebook:\n",
    " - Importing data\n",
    " - Finding peaks\n",
    " - Array slicing\n",
    " - Fitting\n",
    "\n",
    "Skills in the next notebook:\n",
    " - Using `glob` to find files\n",
    " - `for` loops\n",
    " - The `os.path` module\n",
    " - Creating dataframes in Pandas"
   ]
  },
  {
   "cell_type": "markdown",
   "id": "7c4c649d-22cf-43a8-a260-c1d36c0eaafe",
   "metadata": {},
   "source": [
    "# Analyzing the first data file\n",
    "\n",
    "The following steps will be followed in this notebook:\n",
    " - [ ] Importing the first data set\n",
    " - [ ] Trimming the data\n",
    "   - [ ] Finding the peaks\n",
    "   - [ ] Slice both arrays after the last peak\n",
    " - [ ] Setting up the fit and finding the initial guess\n",
    "   - [ ] Define the fit function\n",
    "   - [ ] Pick reasonable initial guess parameters\n",
    " - [ ] Fitting the data and printing out the fit parameters\n",
    "\n",
    "\n",
    "\n",
    "## Importing the data set\n",
    "\n",
    "We'll start by analyzing the datafile \"bleach/A_CL_T2.csv\". To import the datafile, we'll use `np.loadtxt()`. However, the datafiles from the instrument contain **a lot** of metadata. Start by opening up the raw file to look at the structure. You can do that by clicking on your datafile in the Jupyter navigation window, and it'll open in your web browser. When you look at the file, notice that there is metadata (data about the data, which tells you about the way the data was acquired) above the experimental data, as well as on both sides. You'll need to use some key-word arguments (kwargs) in your call to `np.loadtxt()` in order to skip the metadata. Here are some you might find useful:\n",
    "\n",
    " - `skiprows` lets you ignore rows above your data. You'll need to set it equal to the number of rows you want to skip before your data starts.\n",
    " - `usecols` selects the columns your data is in, ignoring all other columns. This is zero-indexed.\n",
    " - `unpack = True` splits columns into individual arrays: `xArray, yArray = np.loadtxt(\"filename.csv\", unpack = True)`\n",
    " - `delimiter` lets you set the delimiter, which is the character separating each data point. For a csv file, the delimiter is a comma.\n",
    "\n",
    "In the first cell below, figure out how to import your data. In the second cell, plot your data, so that you know what you're working with. The array names are written in the first cell for you."
   ]
  },
  {
   "cell_type": "code",
   "execution_count": null,
   "id": "0d3d3adc-e760-4ec0-94ca-93b023cc52c5",
   "metadata": {},
   "outputs": [],
   "source": [
    "# Import your data here\n",
    "dataX_raw, dataY_raw = np.loadtxt("
   ]
  },
  {
   "cell_type": "code",
   "execution_count": null,
   "id": "2d36064b-f76b-4b7b-95fc-fa2f4f80155e",
   "metadata": {},
   "outputs": [],
   "source": [
    "# Plot your data here\n"
   ]
  },
  {
   "cell_type": "markdown",
   "id": "1856d3b4-ef85-4fc6-a705-9961ac054afa",
   "metadata": {},
   "source": [
    "## Trimming the data\n",
    "\n",
    " - [x] Importing the first data set\n",
    " - [ ] Trimming the data\n",
    "   - [ ] Finding the peaks\n",
    "   - [ ] Slice both arrays after the last peak\n",
    " - [ ] Setting up the fit and finding the initial guess\n",
    "   - [ ] Define the fit function\n",
    "   - [ ] Pick reasonable initial guess parameters\n",
    " - [ ] Fitting the data and printing out the fit parameters\n",
    "\n",
    "The dataset contains an initial baseline, a rise with some odd shapes owing to the injection, and the the exponential decay which is the part that we're interested in. \n",
    "\n",
    "Throughout this section, you'll be using a lot of array slicing, which means selecting just parts of an array. You can read a lot more about array slicing here: https://numpy.org/doc/stable/user/basics.indexing.html You might find the Basic Indexing section particularly useful.\n",
    "\n",
    "We could manually slice the array to select just the exponential decay. However, we're fitting with an eye towards automation, so it makes sense to find a way to automate the slice location. In this case, we'll use the scipy function `find_peaks()`. This function searches for all peaks in a data set, allowing for several useful kwargs. Three you should consider are `height`, `distance`, and `prominance`. Call `help(find_peaks) in a blank cell to learn what these three kwargs do."
   ]
  },
  {
   "cell_type": "code",
   "execution_count": 2,
   "id": "2a17dc8c-a98f-484a-83aa-1f2f56815663",
   "metadata": {},
   "outputs": [],
   "source": [
    "# This cell is so that you can call help on find_peaks\n"
   ]
  },
  {
   "cell_type": "markdown",
   "id": "daa2c8b8-dc43-4fad-90f0-13f5463f7ffb",
   "metadata": {},
   "source": [
    "Next you're going to edit the cell below. It currently has five lines of code:\n",
    "1. Find the index (location) of each peak and it's height and save them in arrays\n",
    "2. Grab out the X values corresponding to each peak and save them in an array (this is a fancy array slice)\n",
    "3. Grab out the Y values corresponding to each peak and save them in an array (another fancy array slice)\n",
    "4. Plot the raw data\n",
    "5. Plot the peak locations\n",
    "\n",
    "The call to `find_peaks()` has no kwargs. Excecute that cell. It'll have a multitude of red dots on your data. Your job is to adjust the height, distance, and/or prominence. You'd like it to find just a few peaks, with the last one occuring close to the start of the decay."
   ]
  },
  {
   "cell_type": "code",
   "execution_count": null,
   "id": "ca3e4ce6-dcee-4a5a-ac91-e86b6506bf9c",
   "metadata": {},
   "outputs": [],
   "source": [
    "peaks, heights = find_peaks(dataY_raw)\n",
    "peakX = dataX_raw[peaks]\n",
    "peakY = dataY_raw[peaks]\n",
    "\n",
    "# plot the peaks\n",
    "plt.plot(dataX_raw, dataY_raw)\n",
    "plt.plot(peakX, peakY, 'or')"
   ]
  },
  {
   "cell_type": "markdown",
   "id": "8f2fe360-f1d9-45e7-973a-d560ee8151e9",
   "metadata": {},
   "source": [
    " - [x] Importing the first data set\n",
    " - [ ] Trimming the data\n",
    "   - [x] Finding the peaks\n",
    "   - [ ] Slice both arrays after the last peak\n",
    " - [ ] Setting up the fit and finding the initial guess\n",
    "   - [ ] Define the fit function\n",
    "   - [ ] Pick reasonable initial guess parameters\n",
    " - [ ] Fitting the data and printing out the fit parameters\n",
    "\n",
    "\n",
    "Now that you know where the peaks our, we can use that information to slice the data. We just want to fit the exponential decay. This should occur after the last peak you found. I've given you three cells below to do this step in.\n",
    "\n",
    "In the first cell, use an array slice to grab out the index of the last peak and save it as a variable with a useful name. Hint: while indices greater than zero count from the beginning of the array, indices less than zero count backwards from the end. So an index of -1 is the last element, while -2 is the second to last.\n",
    "\n",
    "In the second cell, you're going to slice your `dataX_raw` and `dataY_raw`. The slice should start at your peak index and end at the end of the array. Save each to a new array, `dataX` and `dataY`.\n",
    "\n",
    "In the third cell, plot your new arrays. When you're done, verify that you've identified just the decay region. Otherwise, go back through and figure out what you need to adjust."
   ]
  },
  {
   "cell_type": "code",
   "execution_count": 6,
   "id": "03169860-7002-42f2-8069-4472e6ac8b04",
   "metadata": {},
   "outputs": [],
   "source": [
    "# This cell is to save the index of the last peak as a variable\n"
   ]
  },
  {
   "cell_type": "code",
   "execution_count": 7,
   "id": "1e5c0b06-44c7-42fe-abc7-1f227c6179c7",
   "metadata": {},
   "outputs": [],
   "source": [
    "# This cell slices your data arrays to trim off the initial portion you don't want\n",
    "\n"
   ]
  },
  {
   "cell_type": "code",
   "execution_count": null,
   "id": "a936c6ae-9e7f-4afe-90de-e1939973277d",
   "metadata": {},
   "outputs": [],
   "source": [
    "# This cell is for plotting your arrays\n"
   ]
  },
  {
   "cell_type": "markdown",
   "id": "004fa85b-df76-49a5-8385-f80b16731ebe",
   "metadata": {},
   "source": [
    "## Setting up the fit and finding the initial guess\n",
    "\n",
    " - [x] Importing the first data set\n",
    " - [x] Trimming the data\n",
    "   - [x] Finding the peaks\n",
    "   - [x] Slice both arrays after the last peak\n",
    " - [ ] Setting up the fit and finding the initial guess\n",
    "   - [ ] Define the fit function\n",
    "   - [ ] Pick reasonable initial guess parameters\n",
    " - [ ] Fitting the data and printing out the fit parameters\n",
    "\n",
    "In order to be ready to fit, we need two things: the fit function and an initial guess. First, create a function (you can call it `exponential`). This function should take four arguments: $x$, $a$, $k$, and $b$, and then return:\n",
    "\n",
    "$y = a e^{-kx} + b$\n",
    "\n",
    "If you need more information on writing functions, check out this page from the Python tutorial: https://docs.python.org/3/tutorial/controlflow.html#defining-functions\n"
   ]
  },
  {
   "cell_type": "code",
   "execution_count": 4,
   "id": "edf1a656-2f99-41f3-bc1f-03ea775bec2b",
   "metadata": {},
   "outputs": [],
   "source": [
    "# define your exponential function here\n"
   ]
  },
  {
   "cell_type": "markdown",
   "id": "594812b1-7c41-4072-ae78-f45c9b01efe3",
   "metadata": {},
   "source": [
    " - [x] Importing the first data set\n",
    " - [x] Trimming the data\n",
    "   - [x] Finding the peaks\n",
    "   - [x] Slice both arrays after the last peak\n",
    " - [ ] Setting up the fit and finding the initial guess\n",
    "   - [x] Define the fit function\n",
    "   - [ ] Pick reasonable initial guess parameters\n",
    " - [ ] Fitting the data and printing out the fit parameters\n",
    "\n",
    "We'll be using the least squares fitting function `curve_fit()` from Scipy. While this is a robust fitting function, it can run into trouble that is often negated by having reasonable initial parameters. We're going to work out estimates for each parameter that are close (relative to the range of All Possible Numbers) to make it more likely that `curve_fit()` finds an acceptable answer.\n",
    "\n",
    "$a$ relates to the height of the exponential function at x = 0. One way to estimate it would be to set the guess for $a$ to be the height of the peak we found.\n",
    "\n",
    "$b$ is the value of the decay at long times. An easy estimate is to use the last value of the Y value array.\n",
    "\n",
    "$k$ is the characteristic decay time. We can consider that, if we take the natural log of our data, then $k$ becomes the slope of the data. This means that we can estimate $k$ by calculating the slope of that line. Two convenient points for the slope calculation are the last value of your dataX and dataY arrays, and the X and Y coordinates of the peak you found. The natural logarithim is `np.log()`.\n",
    "\n",
    "The cell below contains a skeleton for you to fill in your initial guesses. When complete, it should plot your experimental data in blue, followed by the initial guess of the decay in orange. Your initial guess line doesn't have to be terribly close to the data - remember that you're trying to narrow it down from \"All possible values of all three parameters\" to \"The real value should be within an order of magnitude or two fo this number\"."
   ]
  },
  {
   "cell_type": "code",
   "execution_count": null,
   "id": "9f1ba71f-4a1c-4544-a816-f070a859c96f",
   "metadata": {},
   "outputs": [],
   "source": [
    "plt.plot(dataX, dataY)\n",
    "A_guess =\n",
    "B_guess =\n",
    "k_guess =\n",
    "\n",
    "p0 = (A_guess, k_guess, B_guess)\n",
    "plt.plot(dataX, exponential(dataX, *p0))"
   ]
  },
  {
   "cell_type": "markdown",
   "id": "cff985db-fa9a-4cf1-a475-4b0464638116",
   "metadata": {},
   "source": [
    "## Fitting the data and printing out the fit parameters\n",
    "\n",
    " - [x] Importing the first data set\n",
    " - [x] Trimming the data\n",
    "   - [x] Finding the peaks\n",
    "   - [x] Slice both arrays after the last peak\n",
    " - [x] Setting up the fit and finding the initial guess\n",
    "   - [x] Define the fit function\n",
    "   - [x] Pick reasonable initial guess parameters\n",
    " - [ ] Fitting the data and printing out the fit parameters\n",
    "\n",
    "\n",
    "Once you have your initial parameters, it's time to fit your data. You'll use `curve_fit()` from scipy. Call the help on `curve_fit()` to work out how to use it, then fit your data. Save the optimized parameters and covarience matrix as `popt` and `pcov`. Finally, plot your raw data and your fitted data, and print out the results."
   ]
  },
  {
   "cell_type": "code",
   "execution_count": 34,
   "id": "6cc0fdd3-0713-4aea-b1ac-f15c947c0d5b",
   "metadata": {},
   "outputs": [],
   "source": [
    "# Fit your data here\n",
    "popt, pcov = curve_fit("
   ]
  },
  {
   "cell_type": "code",
   "execution_count": 35,
   "id": "6911a0cc-faad-4449-8a1e-a43f21a6d16a",
   "metadata": {},
   "outputs": [
    {
     "data": {
      "text/plain": [
       "[<matplotlib.lines.Line2D at 0x21e4b69e3c0>]"
      ]
     },
     "execution_count": 35,
     "metadata": {},
     "output_type": "execute_result"
    },
    {
     "data": {
      "image/png": "[encoded data removed]",
      "text/plain": [
       "<Figure size 640x480 with 1 Axes>"
      ]
     },
     "metadata": {},
     "output_type": "display_data"
    }
   ],
   "source": [
    "# Plot your raw data and fitted line here\n"
   ]
  },
  {
   "cell_type": "code",
   "execution_count": null,
   "id": "a3380dc3-f6a8-40ae-bfcf-a620c8432832",
   "metadata": {},
   "outputs": [],
   "source": [
    "# Print out the paramters here.\n",
    "print(f\"This print statement is here to show you how to print output with two digits after the decimal {popt[0]:.2f}.\")\n",
    "print(f\"This one shows you how to print scientific notation with 3 decimal precision {popt[1]:.3e}\")"
   ]
  },
  {
   "cell_type": "markdown",
   "id": "45982320-2aac-45be-aca3-d6adaec3e27e",
   "metadata": {},
   "source": [
    "Alright you're done. Let's review what you accomplished.\n",
    "\n",
    " - [x] Importing the first data set\n",
    " - [x] Trimming the data\n",
    "   - [x] Finding the peaks\n",
    "   - [x] Slice both arrays after the last peak\n",
    " - [x] Setting up the fit and finding the initial guess\n",
    "   - [x] Define the fit function\n",
    "   - [x] Pick reasonable initial guess parameters\n",
    " - [x] Fitting the data and printing out the fit parameters"
   ]
  },
  {
   "cell_type": "code",
   "execution_count": null,
   "id": "9a7228fc-f6a1-41cd-b91f-8059df6b497f",
   "metadata": {},
   "outputs": [],
   "source": []
  }
 ],
 "metadata": {
  "kernelspec": {
   "display_name": "Python 3 (ipykernel)",
   "language": "python",
   "name": "python3"
  },
  "language_info": {
   "codemirror_mode": {
    "name": "ipython",
    "version": 3
   },
   "file_extension": ".py",
   "mimetype": "text/x-python",
   "name": "python",
   "nbconvert_exporter": "python",
   "pygments_lexer": "ipython3",
   "version": "3.13.2"
  }
 },
 "nbformat": 4,
 "nbformat_minor": 5
}
