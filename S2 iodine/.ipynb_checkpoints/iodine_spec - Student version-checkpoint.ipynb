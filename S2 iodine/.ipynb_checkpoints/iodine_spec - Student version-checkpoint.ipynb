{
 "cells": [
  {
   "cell_type": "code",
   "execution_count": 1,
   "metadata": {},
   "outputs": [],
   "source": [
    "import numpy as np\n",
    "import matplotlib.pyplot as plt\n",
    "from scipy.signal import find_peaks\n",
    "import pandas as pd"
   ]
  },
  {
   "cell_type": "markdown",
   "metadata": {},
   "source": [
    "# How to analyze the vibronic spectrum of iodine\n",
    "\n",
    "The vibronic spectrum of iodine has been in the physical chemistry lab curriculum for decades for a reason: the analysis asks you to dig deep into the interaction \n",
    "\n",
    "Your scientific goals are to be able to create a Birge-Sponer plot from your data, and extract parameters for the potential energy curves. In order to achieve those goals you'll also need to learn some new data analysis skills.\n",
    "\n",
    "This notebook is broken into sections to give you assistance in the different skills you'll need. You can work through it from top to bottom to go through the entire analysis. You can also skip around to just the sections you want more Python assistance with. The table below shows you the different sections of the notebook, as well as the scientific/experimental skills and the Python skills covered in each section.\n",
    "\n",
    "The steps:\n",
    "\n",
    "| Step | Scientific learning | Python learning|\n",
    "| --- | --- | --- |\n",
    "| Import the data | Understanding the output of the monochromator | working with `loadtxt()`|\n",
    "| Combine data sets and convert to absorption | Understanding the output of the monochromator | Working with arrays |\n",
    "| Combine data sets | monochromator | Working with arrays | \n",
    "| Find peaks in your spectrum | | working with `findpeaks()`|\n",
    "| Assign peaks to transitions | What do the quantum numbers mean | Iteratively stepping plotting arrays and editing a DataFrame |\n",
    "| Make Birge-Sponer plots for both states | What information goes into a Birge-Sponer plot | stuff and things |\n",
    "| Extract parameters from the Birge-Sponer plots | | |\n",
    "\n",
    "I think I like this table. It's helping me think about learning goals.\n",
    "\n",
    "\n"
   ]
  },
  {
   "cell_type": "markdown",
   "metadata": {},
   "source": [
    "# Importing data\n",
    "\n",
    " - [ ] Import the data\n",
    " - [ ] Convert the data to absorbance\n",
    " - [ ] Combine multiple data sets into one large spectrum\n",
    " - [ ] Find peaks\n",
    " - [ ] Assign peaks to transitions\n",
    " - [ ] Make BS plots for both states\n",
    " - [ ] Extract paramters from the BS plots\n",
    " - [ ] Compare parameters with published data\n",
    " - [ ] Plot potential energy curves\n",
    " - [ ] Make submission quality plots\n",
    "\n",
    "You have two kinds of data files: files which contain data from iodine, and files which contain the background (blanks). We'll start by importing the iodine data.\n",
    "\n",
    "You likely have more than one data set. To start with, you need to figure out the structure of your datafile, to understand how to open it. You can double click on one of your files in the Jupyter navigation window and it'll open in a new window. When you open it, you'll see that it has three columns: wavelength data, the number of samples, and the intensity at that wavelength. We want to import this datafile, loading each column into a separate array. You can use a line like this:\n",
    "\n",
    "`data1X, data1N, data1Y = np.loadtxt(\"[folder name]/[file name]\", unpack = True)`\n",
    "\n",
    "where you'll replace [folder name] and [file name] with the location of your data file.\n",
    "\n",
    "In the first cell below, import each of your data sets into it's own set of arrays. In the second cell, plot each of your datasets."
   ]
  },
  {
   "cell_type": "code",
   "execution_count": 2,
   "metadata": {},
   "outputs": [],
   "source": []
  },
  {
   "cell_type": "code",
   "execution_count": null,
   "metadata": {},
   "outputs": [],
   "source": []
  },
  {
   "cell_type": "markdown",
   "metadata": {},
   "source": [
    "Next, you need to import your blanks. To keep things easier to remember, number them the same as the corresponding data files and import them the same way, but this time use the label `blank1X, blank1N, blank1Y` instead of `data1X, data1N, data1Y`. In the cell below, import each blank. Then use the second cell to plot your blanks."
   ]
  },
  {
   "cell_type": "code",
   "execution_count": 4,
   "metadata": {},
   "outputs": [],
   "source": []
  },
  {
   "cell_type": "code",
   "execution_count": null,
   "metadata": {},
   "outputs": [],
   "source": []
  },
  {
   "cell_type": "markdown",
   "metadata": {},
   "source": [
    "# Converting to absorbance\n",
    "\n",
    " - [x] Import the data\n",
    " - [ ] Convert the data to absorbance\n",
    " - [ ] Combine multiple data sets into one large spectrum\n",
    " - [ ] Find peaks\n",
    " - [ ] Assign peaks to transitions\n",
    " - [ ] Make BS plots for both states\n",
    " - [ ] Extract paramters from the BS plots\n",
    " - [ ] Compare parameters with published data\n",
    " - [ ] Plot potential energy curves\n",
    " - [ ] Make submission quality plots\n",
    "\n",
    "Your raw data is proportional to the number of photons absorbed by the CCD at each wavelength. You'll need to convert that to absorbance using the following equation:\n",
    "\n",
    "$A = log\\frac{I_0}{I}$\n",
    "\n",
    "Here $I_0$ is the intensity of photons without your sample (the blank) and $I$ is the intensity of photons with your sample.\n",
    "\n",
    "Useful function: `np.log10()`\n",
    "\n",
    "## How to divide arrays (and many other mathmatical operations on arrays)\n",
    "\n",
    "One of the big advantages of numpy arrays is that they do what's called elment-wise operations. To explain, here's an example. First, I'll create two arrays:\n",
    "```\n",
    "array1 = np.array([1, 2, 3])\n",
    "array2 = np.array([2, 6, 4])\n",
    "```\n",
    "\n",
    "If I add these two arrays together, the result is that the initial element of `array1` gets added to the initial element of `array2` and so on.  So the result of performing `array1 + array2` would be an array containing the numbers `[3, 8, 7]`.\n",
    "\n",
    "This logic applies to most mathmatical operations. You can do element-wise division this way. You can also apply functions: `np.sin(array1`) will take the sin of each elment of `array1`.\n",
    "\n",
    "Use the cell below to calculate the absorbtion of each of your spectra, then plot them. You should use the corresponding `data[#]X` array as your horizontal axis when plotting."
   ]
  },
  {
   "cell_type": "code",
   "execution_count": 21,
   "metadata": {},
   "outputs": [],
   "source": []
  },
  {
   "cell_type": "code",
   "execution_count": null,
   "metadata": {},
   "outputs": [],
   "source": []
  },
  {
   "cell_type": "markdown",
   "metadata": {},
   "source": [
    "# Combine multiple data sets into one large spectrum\n",
    "\n",
    " - [x] Import the data\n",
    " - [x] Convert the data to absorbance\n",
    " - [ ] Combine multiple data sets into one large spectrum\n",
    " - [ ] Find peaks\n",
    " - [ ] Assign peaks to transitions\n",
    " - [ ] Make BS plots for both states\n",
    " - [ ] Extract paramters from the BS plots\n",
    " - [ ] Compare parameters with published data\n",
    " - [ ] Plot potential energy curves\n",
    " - [ ] Make submission quality plots\n",
    "\n",
    "You'll need to decide which data set(s) you want to analyze. Our monochromator has three different gratings which give three different resolutions. At high resolution, the spectrum is too wide to be acquired at once. The high resolution data will give you better parameters at the end of your analysis. However, the fact that they're in multiple pieces makes it difficult to work with. Below, I'll describe how you can splice together multiple spectra for combined analysis.\n",
    "\n",
    "First, let's outline the process. You have two (or more) datasets where you want one to move vertically to align with with the other at one particular point, the combine the parts of the arrays on either side of that point.\n",
    "\n",
    "Imagine you have two datasets Ay and By, with corresponding x arrays Ax and Bx. There is overlap in the ranges of Ax and Bx. One algorithm to imagine combineing these goes as follows:\n",
    "1. Find where Bx is bigger than the last value of Ax (that is, what is the first element of Bx that doesn't overlap with Ax)\n",
    "     - Use `np.argwhere(Bx>Ax[-1])`\n",
    "     - That will return an array. Consider which single value of that array you need. Use an array slice to pull out the value you need\n",
    "2. Find the difference between the last value of Ay and the value of By at the point found in step 1\n",
    "3. Shift Bx by that difference\n",
    "4. Slice Bx and By at the point found in step 1\n",
    "5. Combine the x and y arrays\n",
    "\n",
    "In the first cell below, work out the values you need to shift your dataset(s) in order to line up, and find the indices you need to slice at.\n",
    "\n",
    "In the second cell, plot each dataset, adding in shifts as needed. Verify that you like the overlaps between your datasets.\n",
    "\n",
    "Once you're hapy with those two cells, use the third cell to slice and combind your arrays. Use syntax like this:\n",
    "`bigX = np.hstack((Ax[:indexAB], Bx[:indexBC], Cx))`"
   ]
  },
  {
   "cell_type": "code",
   "execution_count": null,
   "metadata": {},
   "outputs": [],
   "source": [
    "#Find the values to shift your datasets and the indices to slice at\n"
   ]
  },
  {
   "cell_type": "code",
   "execution_count": null,
   "metadata": {},
   "outputs": [],
   "source": [
    "#Plot your datasets with the shifts to verify that you've caused them to line up correctly\n"
   ]
  },
  {
   "cell_type": "code",
   "execution_count": null,
   "metadata": {},
   "outputs": [],
   "source": [
    "#Combine your datasets into one big X array and one big Y array\n"
   ]
  },
  {
   "cell_type": "markdown",
   "metadata": {},
   "source": [
    "# Peak finding"
   ]
  },
  {
   "cell_type": "markdown",
   "metadata": {},
   "source": [
    "So I've combined my datasets into one big spectrum. The next step is to use `find_peaks()` to locate each local maximum. The `prominence` setting lets me decide how big a peak has to be to not count as noise.\n",
    "\n",
    "In the cell below, I start by executing `find_peaks()`, which returns the indices of each peak location. Next, I feed those peaks into the array of x values, to get an array of x values where peaks are.\n",
    "\n",
    "The final step is to make a plot. It shows the spectrum. It also has a set of vertical lines at each peak location. The y valules of those lines are eyeballed to overlap with the spectrum. The easiest way to make a vertical line is to use a plot command, where you manually put in the x and y values, and have the x values be the same. For example, if I wanted a vertical line located at 15.2, that ran from 2 to 2.5, that command would look like this:\n",
    "`plt.plot((15.2, 15.2), (2, 2.5), 'b')`\n",
    "\n",
    "The last line prints out the shape of the peak location array, so that I know how many I have, and what kind of object I have.\n",
    "\n",
    "What students need to do:\n",
    " - [x] Import the data\n",
    " - [x] Combine and convert to abs\n",
    " - [ ] Find peaks\n",
    " - [ ] Assign peaks to transitions\n",
    " - [ ] Make BS plots for both states\n",
    " - [ ] Extract paramters from the BS plots\n",
    " - [ ] Compare parameters with published data\n",
    " - [ ] Plot potential energy curves\n",
    " - [ ] Make submission quality plots"
   ]
  },
  {
   "cell_type": "code",
   "execution_count": null,
   "metadata": {},
   "outputs": [],
   "source": []
  },
  {
   "cell_type": "code",
   "execution_count": 1,
   "metadata": {},
   "outputs": [
    {
     "ename": "NameError",
     "evalue": "name 'find_peaks' is not defined",
     "output_type": "error",
     "traceback": [
      "\u001b[1;31m---------------------------------------------------------------------------\u001b[0m",
      "\u001b[1;31mNameError\u001b[0m                                 Traceback (most recent call last)",
      "Cell \u001b[1;32mIn[1], line 1\u001b[0m\n\u001b[1;32m----> 1\u001b[0m peakValues, peakProps \u001b[38;5;241m=\u001b[39m find_peaks(bigY, height \u001b[38;5;241m=\u001b[39m (\u001b[38;5;241m0\u001b[39m), prominence \u001b[38;5;241m=\u001b[39m (\u001b[38;5;241m.01\u001b[39m))\n\u001b[0;32m      2\u001b[0m peakLocations \u001b[38;5;241m=\u001b[39m bigX[peakValues]\n\u001b[0;32m      3\u001b[0m plt\u001b[38;5;241m.\u001b[39mfigure(\u001b[38;5;241m4\u001b[39m)\n",
      "\u001b[1;31mNameError\u001b[0m: name 'find_peaks' is not defined"
     ]
    }
   ],
   "source": [
    "peakValues, peakProps = find_peaks(bigY, height = (0), prominence = (.01))\n",
    "peakLocations = bigX[peakValues]\n",
    "plt.figure(4)\n",
    "plt.plot((peakLocations, peakLocations), (.1,.4))\n",
    "plt.plot(bigX, bigY)\n",
    "print(np.shape(peakLocations))\n",
    "plt.xlim([525, 575]) #useful zoom to show some dublets"
   ]
  },
  {
   "cell_type": "markdown",
   "metadata": {},
   "source": [
    "The next step is to make an object to hold onto the peak assignments. In the cell below, I make a four column pandas data frame. The first colume is the peak locations in nm. The second and third are top and bottom vibrational quantum numbers, initialliy populated with \"n/a\". THe last one is the peak locations in wavenumbers. And then the actual last one is the peak heights, for annotation purposes later."
   ]
  },
  {
   "cell_type": "code",
   "execution_count": 13,
   "metadata": {},
   "outputs": [],
   "source": [
    "peakseries = pd.Series(peakLocations)\n",
    "waves = pd.Series(10**7/peakLocations)\n",
    "peaks = pd.DataFrame({\n",
    "    \"location\":peakseries,\n",
    "    \"vtop\":\"n/a\",\n",
    "    \"vbot\":\"n/a\",\n",
    "    \"loc_wave\":waves,\n",
    "    \"heights\":peakProps[\"peak_heights\"]\n",
    "})"
   ]
  },
  {
   "cell_type": "markdown",
   "metadata": {},
   "source": [
    "### ** This is as far as I've made it in the retype**\n",
    "\n",
    "What students need to do:\n",
    "\n",
    " - [x] Import the data\n",
    " - [x] Combine and convert to abs\n",
    " - [x] Find peaks\n",
    " - [ ] Assign peaks to transitions\n",
    " - [ ] Make BS plots for both states\n",
    " - [ ] Extract paramters from the BS plots\n",
    " - [ ] Compare parameters with published data\n",
    " - [ ] Plot potential energy curves\n",
    " - [ ] Make submission quality plots\n",
    " \n",
    "Now that I've got an object to hold peak assignments, I need to populate that object. I did this iteratively. What was my procedure?\n",
    "\n",
    "Start by plotting the spectral region with vbot = 0 three peaks having vertical lines on them. Use `iloc()` to see the range of peaks that correspond to that area. Tentatively assign peaks. Replot with assignments having verticle lines. Change assignments as needed. Then, move the frame to higher/lower numbers, and repeat, until I run out of vbot = 0 peaks. Repeat with the other two.\n",
    "\n",
    "### Switching to teacher voice here\n",
    "\n",
    "Alright so we have a dataframe that can hold our peak locations. Now we need to assign the peaks. This manages to be one of those things that's so simple that it's hard. Each individual peak has a v\" quantum number for it's ground state vibration, and a v' quantum number for it's excited state vibration. You need to figure out how to identify each peak, then manually assign the peak. This will be iterative, and repetative, and quite possibly annoying.\n",
    "\n",
    "To start, check the literature and grab the peak values for v\"=0. Next, make a plot. On that plot, put your combined spectrum. Then, you're going to make three vertical lines like those you put on your `find_peaks()` plot.\n",
    "\n",
    "I gave it a color as well, because we're going to want to color code our work. Using that syntax, make three vertical lines. They should span across your data, and be located at teh three peaks for v\"=0 from the literature. Make them all the same color. (When you repeat this process for v\" = 1, you'll pick a new color.)\n",
    "\n",
    "Finally, use the `plt.xlim()` and `plt.ylim()` functions to zoom your plot so that you can see the area around your three peaks. You should now be able to visually see which three of your peaks correspond to the three literature peaks. More to come below this cell."
   ]
  },
  {
   "cell_type": "code",
   "execution_count": 65,
   "metadata": {},
   "outputs": [
    {
     "name": "stdout",
     "output_type": "stream",
     "text": [
      "Help on function annotate in module matplotlib.pyplot:\n",
      "\n",
      "annotate(text, xy, *args, **kwargs)\n",
      "    Annotate the point *xy* with text *text*.\n",
      "    \n",
      "    In the simplest form, the text is placed at *xy*.\n",
      "    \n",
      "    Optionally, the text can be displayed in another position *xytext*.\n",
      "    An arrow pointing from the text to the annotated point *xy* can then\n",
      "    be added by defining *arrowprops*.\n",
      "    \n",
      "    Parameters\n",
      "    ----------\n",
      "    text : str\n",
      "        The text of the annotation.  *s* is a deprecated synonym for this\n",
      "        parameter.\n",
      "    \n",
      "    xy : (float, float)\n",
      "        The point *(x, y)* to annotate. The coordinate system is determined\n",
      "        by *xycoords*.\n",
      "    \n",
      "    xytext : (float, float), default: *xy*\n",
      "        The position *(x, y)* to place the text at. The coordinate system\n",
      "        is determined by *textcoords*.\n",
      "    \n",
      "    xycoords : str or `.Artist` or `.Transform` or callable or (float, float), default: 'data'\n",
      "    \n",
      "        The coordinate system that *xy* is given in. The following types\n",
      "        of values are supported:\n",
      "    \n",
      "        - One of the following strings:\n",
      "    \n",
      "          =================   =============================================\n",
      "          Value               Description\n",
      "          =================   =============================================\n",
      "          'figure points'     Points from the lower left of the figure\n",
      "          'figure pixels'     Pixels from the lower left of the figure\n",
      "          'figure fraction'   Fraction of figure from lower left\n",
      "          'axes points'       Points from lower left corner of axes\n",
      "          'axes pixels'       Pixels from lower left corner of axes\n",
      "          'axes fraction'     Fraction of axes from lower left\n",
      "          'data'              Use the coordinate system of the object being\n",
      "                              annotated (default)\n",
      "          'polar'             *(theta, r)* if not native 'data' coordinates\n",
      "          =================   =============================================\n",
      "    \n",
      "        - An `.Artist`: *xy* is interpreted as a fraction of the artist's\n",
      "          `~matplotlib.transforms.Bbox`. E.g. *(0, 0)* would be the lower\n",
      "          left corner of the bounding box and *(0.5, 1)* would be the\n",
      "          center top of the bounding box.\n",
      "    \n",
      "        - A `.Transform` to transform *xy* to screen coordinates.\n",
      "    \n",
      "        - A function with one of the following signatures::\n",
      "    \n",
      "            def transform(renderer) -> Bbox\n",
      "            def transform(renderer) -> Transform\n",
      "    \n",
      "          where *renderer* is a `.RendererBase` subclass.\n",
      "    \n",
      "          The result of the function is interpreted like the `.Artist` and\n",
      "          `.Transform` cases above.\n",
      "    \n",
      "        - A tuple *(xcoords, ycoords)* specifying separate coordinate\n",
      "          systems for *x* and *y*. *xcoords* and *ycoords* must each be\n",
      "          of one of the above described types.\n",
      "    \n",
      "        See :ref:`plotting-guide-annotation` for more details.\n",
      "    \n",
      "    textcoords : str or `.Artist` or `.Transform` or callable or (float, float), default: value of *xycoords*\n",
      "        The coordinate system that *xytext* is given in.\n",
      "    \n",
      "        All *xycoords* values are valid as well as the following\n",
      "        strings:\n",
      "    \n",
      "        =================   =========================================\n",
      "        Value               Description\n",
      "        =================   =========================================\n",
      "        'offset points'     Offset (in points) from the *xy* value\n",
      "        'offset pixels'     Offset (in pixels) from the *xy* value\n",
      "        =================   =========================================\n",
      "    \n",
      "    arrowprops : dict, optional\n",
      "        The properties used to draw a `.FancyArrowPatch` arrow between the\n",
      "        positions *xy* and *xytext*.\n",
      "    \n",
      "        If *arrowprops* does not contain the key 'arrowstyle' the\n",
      "        allowed keys are:\n",
      "    \n",
      "        ==========   ======================================================\n",
      "        Key          Description\n",
      "        ==========   ======================================================\n",
      "        width        The width of the arrow in points\n",
      "        headwidth    The width of the base of the arrow head in points\n",
      "        headlength   The length of the arrow head in points\n",
      "        shrink       Fraction of total length to shrink from both ends\n",
      "        ?            Any key to :class:`matplotlib.patches.FancyArrowPatch`\n",
      "        ==========   ======================================================\n",
      "    \n",
      "        If *arrowprops* contains the key 'arrowstyle' the\n",
      "        above keys are forbidden.  The allowed values of\n",
      "        ``'arrowstyle'`` are:\n",
      "    \n",
      "        ============   =============================================\n",
      "        Name           Attrs\n",
      "        ============   =============================================\n",
      "        ``'-'``        None\n",
      "        ``'->'``       head_length=0.4,head_width=0.2\n",
      "        ``'-['``       widthB=1.0,lengthB=0.2,angleB=None\n",
      "        ``'|-|'``      widthA=1.0,widthB=1.0\n",
      "        ``'-|>'``      head_length=0.4,head_width=0.2\n",
      "        ``'<-'``       head_length=0.4,head_width=0.2\n",
      "        ``'<->'``      head_length=0.4,head_width=0.2\n",
      "        ``'<|-'``      head_length=0.4,head_width=0.2\n",
      "        ``'<|-|>'``    head_length=0.4,head_width=0.2\n",
      "        ``'fancy'``    head_length=0.4,head_width=0.4,tail_width=0.4\n",
      "        ``'simple'``   head_length=0.5,head_width=0.5,tail_width=0.2\n",
      "        ``'wedge'``    tail_width=0.3,shrink_factor=0.5\n",
      "        ============   =============================================\n",
      "    \n",
      "        Valid keys for `~matplotlib.patches.FancyArrowPatch` are:\n",
      "    \n",
      "        ===============  ==================================================\n",
      "        Key              Description\n",
      "        ===============  ==================================================\n",
      "        arrowstyle       the arrow style\n",
      "        connectionstyle  the connection style\n",
      "        relpos           default is (0.5, 0.5)\n",
      "        patchA           default is bounding box of the text\n",
      "        patchB           default is None\n",
      "        shrinkA          default is 2 points\n",
      "        shrinkB          default is 2 points\n",
      "        mutation_scale   default is text size (in points)\n",
      "        mutation_aspect  default is 1.\n",
      "        ?                any key for :class:`matplotlib.patches.PathPatch`\n",
      "        ===============  ==================================================\n",
      "    \n",
      "        Defaults to None, i.e. no arrow is drawn.\n",
      "    \n",
      "    annotation_clip : bool or None, default: None\n",
      "        Whether to draw the annotation when the annotation point *xy* is\n",
      "        outside the axes area.\n",
      "    \n",
      "        - If *True*, the annotation will only be drawn when *xy* is\n",
      "          within the axes.\n",
      "        - If *False*, the annotation will always be drawn.\n",
      "        - If *None*, the annotation will only be drawn when *xy* is\n",
      "          within the axes and *xycoords* is 'data'.\n",
      "    \n",
      "    **kwargs\n",
      "        Additional kwargs are passed to `~matplotlib.text.Text`.\n",
      "    \n",
      "    Returns\n",
      "    -------\n",
      "    `.Annotation`\n",
      "    \n",
      "    See Also\n",
      "    --------\n",
      "    :ref:`plotting-guide-annotation`\n",
      "\n"
     ]
    }
   ],
   "source": [
    "help(plt.annotate)"
   ]
  },
  {
   "cell_type": "code",
   "execution_count": 67,
   "metadata": {},
   "outputs": [
    {
     "name": "stdout",
     "output_type": "stream",
     "text": [
      "0.31534348379836724\n",
      "0.3130798603962951\n",
      "0.25977738290880986\n"
     ]
    },
    {
     "data": {
      "text/plain": [
       "(500.0, 560.0)"
      ]
     },
     "execution_count": 67,
     "metadata": {},
     "output_type": "execute_result"
    },
    {
     "data": {
      "image/png": "[encoded data removed]",
      "text/plain": [
       "<Figure size 432x288 with 1 Axes>"
      ]
     },
     "metadata": {
      "needs_background": "light"
     },
     "output_type": "display_data"
    }
   ],
   "source": [
    "plt.plot(bigX, bigY)\n",
    "#plt.xlim(580,600)\n",
    "#plt.ylim(0.1, 0.2)\n",
    "\n",
    "peaks.iloc[35,1] = 20\n",
    "peaks.iloc[35,2] = 0\n",
    "peaks.iloc[7,1] = 41\n",
    "peaks.iloc[7,2] = 0\n",
    "peaks.iloc[8,1] = 40\n",
    "peaks.iloc[8,2] = 0\n",
    "\n",
    "plt.plot((541.2, 541.2), (.2, .35), 'b')\n",
    "plt.plot((539, 539), (.2, .35), 'b')\n",
    "plt.plot((536.9, 536.9), (.2, .35), 'b')\n",
    "\n",
    "bumpup = 0.005\n",
    "vbot0 = peaks.query('vbot==0')\n",
    "for row_index, row in vbot0.iterrows():\n",
    "    print(row[\"heights\"], sep=\"\\n\")\n",
    "    plt.annotate(row[\"vtop\"], (row[\"location\"], row[\"heights\"]+bumpup), color = 'b')\n",
    "plt.xlim(500, 560)"
   ]
  },
  {
   "cell_type": "markdown",
   "metadata": {},
   "source": [
    "Next, you're going to display a portion of your table, and figure out which peak locations correspond to the three peaks you just visually assigned. We need to pick the correct three rows, and then you'll fill in quantum numbers by manually writing information into those cells. Start by executing the cell below. It's displaying rows 25 to 30 of your data. Manually adjust the index values, until you're seeing the peak locations that correspond to your three peaks. Make a mental note of which three indices correspond to your three assigned peaks."
   ]
  },
  {
   "cell_type": "code",
   "execution_count": 63,
   "metadata": {},
   "outputs": [
    {
     "data": {
      "text/html": [
       "<div>\n",
       "<style scoped>\n",
       "    .dataframe tbody tr th:only-of-type {\n",
       "        vertical-align: middle;\n",
       "    }\n",
       "\n",
       "    .dataframe tbody tr th {\n",
       "        vertical-align: top;\n",
       "    }\n",
       "\n",
       "    .dataframe thead th {\n",
       "        text-align: right;\n",
       "    }\n",
       "</style>\n",
       "<table border=\"1\" class=\"dataframe\">\n",
       "  <thead>\n",
       "    <tr style=\"text-align: right;\">\n",
       "      <th></th>\n",
       "      <th>location</th>\n",
       "      <th>vtop</th>\n",
       "      <th>vbot</th>\n",
       "      <th>loc_wave</th>\n",
       "      <th>heights</th>\n",
       "    </tr>\n",
       "  </thead>\n",
       "  <tbody>\n",
       "    <tr>\n",
       "      <th>25</th>\n",
       "      <td>542.841</td>\n",
       "      <td>n/a</td>\n",
       "      <td>n/a</td>\n",
       "      <td>18421.600432</td>\n",
       "      <td>0.326769</td>\n",
       "    </tr>\n",
       "    <tr>\n",
       "      <th>26</th>\n",
       "      <td>545.292</td>\n",
       "      <td>n/a</td>\n",
       "      <td>n/a</td>\n",
       "      <td>18338.798295</td>\n",
       "      <td>0.312329</td>\n",
       "    </tr>\n",
       "    <tr>\n",
       "      <th>27</th>\n",
       "      <td>547.682</td>\n",
       "      <td>n/a</td>\n",
       "      <td>n/a</td>\n",
       "      <td>18258.770600</td>\n",
       "      <td>0.303046</td>\n",
       "    </tr>\n",
       "    <tr>\n",
       "      <th>28</th>\n",
       "      <td>548.821</td>\n",
       "      <td>n/a</td>\n",
       "      <td>n/a</td>\n",
       "      <td>18220.877117</td>\n",
       "      <td>0.249406</td>\n",
       "    </tr>\n",
       "    <tr>\n",
       "      <th>29</th>\n",
       "      <td>550.066</td>\n",
       "      <td>n/a</td>\n",
       "      <td>n/a</td>\n",
       "      <td>18179.636625</td>\n",
       "      <td>0.288609</td>\n",
       "    </tr>\n",
       "  </tbody>\n",
       "</table>\n",
       "</div>"
      ],
      "text/plain": [
       "    location vtop vbot      loc_wave   heights\n",
       "25   542.841  n/a  n/a  18421.600432  0.326769\n",
       "26   545.292  n/a  n/a  18338.798295  0.312329\n",
       "27   547.682  n/a  n/a  18258.770600  0.303046\n",
       "28   548.821  n/a  n/a  18220.877117  0.249406\n",
       "29   550.066  n/a  n/a  18179.636625  0.288609"
      ]
     },
     "execution_count": 63,
     "metadata": {},
     "output_type": "execute_result"
    }
   ],
   "source": [
    "peaks.iloc[25:30]"
   ]
  },
  {
   "cell_type": "code",
   "execution_count": 64,
   "metadata": {},
   "outputs": [
    {
     "data": {
      "text/plain": [
       "'n/a'"
      ]
     },
     "execution_count": 64,
     "metadata": {},
     "output_type": "execute_result"
    }
   ],
   "source": [
    "peaks.loc[25, \"vtop\"]"
   ]
  },
  {
   "cell_type": "markdown",
   "metadata": {},
   "source": [
    "In order to assign peaks, we'll use the `loc` function on our data frame. It'll let us manually write a value into a particular location. For example, if I wanted to write a value of 75 into the vtop for line 1 (don't ask why, because that doesn't make any sense), I would write the following:\n",
    "\n",
    "`peaks.loc[1, \"vtop\"] = 75`\n",
    "\n",
    "Using that syntax, assign the appropriate values to vtop and vbot for your three peaks."
   ]
  },
  {
   "cell_type": "markdown",
   "metadata": {},
   "source": [
    "Now we're going to do something nifty. You'll be annoyed at me right now, but you'll thank me for it when it comes time to submit your lab report. We're going to label all assigned peaks with their quantum numbers."
   ]
  },
  {
   "cell_type": "code",
   "execution_count": 25,
   "metadata": {},
   "outputs": [],
   "source": [
    "peaks.iloc[4,1] = 43\n",
    "peaks.iloc[4,2] = 0\n",
    "peaks.iloc[5,1] = 42\n",
    "peaks.iloc[5,2] = 0\n",
    "peaks.iloc[6,1] = \"na\"\n",
    "peaks.iloc[6,2] = \"na\"\n",
    "peaks.iloc[7,1] = 41\n",
    "peaks.iloc[7,2] = 0\n",
    "peaks.iloc[8,1] = 40\n",
    "peaks.iloc[8,2] = 0\n",
    "peaks.iloc[9,1] = \"na\"\n",
    "peaks.iloc[9,2] = \"na\"\n",
    "peaks.iloc[10,1] = 39\n",
    "peaks.iloc[10,2] = 0\n",
    "peaks.iloc[11,1] = 38\n",
    "peaks.iloc[11,2] = 0\n",
    "peaks.iloc[12,1] = 37\n",
    "peaks.iloc[12,2] = 0\n",
    "peaks.iloc[13,1] = 36\n",
    "peaks.iloc[13,2] = 0\n",
    "peaks.iloc[14,1] = \"na\"\n",
    "peaks.iloc[14,2] = \"na\"\n",
    "peaks.iloc[15,1] = 35\n",
    "peaks.iloc[15,2] = 0\n",
    "peaks.iloc[16,1] = \"na\"\n",
    "peaks.iloc[16,2] = \"na\"\n",
    "peaks.iloc[17,1] = 34\n",
    "peaks.iloc[17,2] = 0\n",
    "peaks.iloc[18,1] = 33\n",
    "peaks.iloc[18,2] = 0\n",
    "peaks.iloc[19,1] = 32\n",
    "peaks.iloc[19,2] = 0\n",
    "peaks.iloc[20,1] = 31\n",
    "peaks.iloc[20,2] = 0\n",
    "peaks.iloc[21,1] = 30\n",
    "peaks.iloc[21,2] = 0\n",
    "peaks.iloc[22,1] = 29\n",
    "peaks.iloc[22,2] = 0\n",
    "peaks.iloc[23,1] = 28\n",
    "peaks.iloc[23,2] = 0\n",
    "peaks.iloc[24,1] = 27\n",
    "peaks.iloc[24,2] = 0\n",
    "peaks.iloc[25,1] = 26\n",
    "peaks.iloc[25,2] = 0\n",
    "peaks.iloc[26,1] = 25\n",
    "peaks.iloc[26,2] = 0\n",
    "peaks.iloc[27,1] = 24\n",
    "peaks.iloc[27,2] = 0\n",
    "peaks.iloc[28,1] = \"na\"\n",
    "peaks.iloc[28,2] = \"na\"\n",
    "peaks.iloc[29,1] = 23\n",
    "peaks.iloc[29,2] = 0\n",
    "peaks.iloc[31,1] = 22\n",
    "peaks.iloc[31,2] = 0\n",
    "peaks.iloc[33,1] = 21\n",
    "peaks.iloc[33,2] = 0\n",
    "peaks.iloc[35,1] = 20\n",
    "peaks.iloc[35,2] = 0\n",
    "\n",
    "peaks.iloc[30,1] = 25\n",
    "peaks.iloc[30,2] = 1\n",
    "peaks.iloc[32,1] = 24\n",
    "peaks.iloc[32,2] = 1\n",
    "peaks.iloc[34,1] = 23\n",
    "peaks.iloc[34,2] = 1\n",
    "peaks.iloc[36,1] = 22\n",
    "peaks.iloc[36,2] = 1\n",
    "peaks.iloc[38,1] = 21\n",
    "peaks.iloc[38,2] = 1\n",
    "peaks.iloc[40,1] = 20\n",
    "peaks.iloc[40,2] = 1\n",
    "peaks.iloc[41,1] = 19\n",
    "peaks.iloc[41,2] = 1\n",
    "peaks.iloc[42,1] = 18\n",
    "peaks.iloc[42,2] = 1\n",
    "peaks.iloc[43,1] = 17\n",
    "peaks.iloc[43,2] = 1\n",
    "peaks.iloc[44,1] = 16\n",
    "peaks.iloc[44,2] = 1\n",
    "peaks.iloc[45,1] = 17\n",
    "\n",
    "peaks.iloc[45,2] = 2\n",
    "peaks.iloc[46,1] = \"nan\" #noise peak\n",
    "peaks.iloc[46,2] = \"nan\"\n",
    "peaks.iloc[47,1] = 16\n",
    "peaks.iloc[47,2] = 2\n",
    "peaks.iloc[48,1] = 15\n",
    "peaks.iloc[48,2] = 2\n",
    "peaks.iloc[49,1] = 14\n",
    "peaks.iloc[49,2] = 2\n",
    "peaks.iloc[50,1] = 13\n",
    "peaks.iloc[50,2] = 2\n",
    "peaks.iloc[51,1] = \"nan\"\n",
    "peaks.iloc[51,2] = \"nan\"\n",
    "peaks.iloc[52,1] = 11\n",
    "peaks.iloc[52,2] = 2\n",
    "peaks.iloc[53,1] = 10\n",
    "peaks.iloc[53,2] = 2\n",
    "peaks.iloc[54,1] = 9\n",
    "peaks.iloc[54,2] = 2\n",
    "peaks.iloc[55,1] = 8\n",
    "peaks.iloc[55,2] = 2\n",
    "peaks.iloc[56,1] = 7\n",
    "peaks.iloc[56,2] = 2\n",
    "peaks.iloc[57,1] = 6\n",
    "peaks.iloc[57,2] = 2\n",
    "peaks.iloc[58,1] = 5\n",
    "peaks.iloc[58,2] = 2"
   ]
  },
  {
   "cell_type": "code",
   "execution_count": 32,
   "metadata": {},
   "outputs": [
    {
     "data": {
      "text/html": [
       "<div>\n",
       "<style scoped>\n",
       "    .dataframe tbody tr th:only-of-type {\n",
       "        vertical-align: middle;\n",
       "    }\n",
       "\n",
       "    .dataframe tbody tr th {\n",
       "        vertical-align: top;\n",
       "    }\n",
       "\n",
       "    .dataframe thead th {\n",
       "        text-align: right;\n",
       "    }\n",
       "</style>\n",
       "<table border=\"1\" class=\"dataframe\">\n",
       "  <thead>\n",
       "    <tr style=\"text-align: right;\">\n",
       "      <th></th>\n",
       "      <th>location</th>\n",
       "      <th>vtop</th>\n",
       "      <th>vbot</th>\n",
       "      <th>loc_wave</th>\n",
       "      <th>new column</th>\n",
       "    </tr>\n",
       "  </thead>\n",
       "  <tbody>\n",
       "    <tr>\n",
       "      <th>0</th>\n",
       "      <td>512.294</td>\n",
       "      <td>na</td>\n",
       "      <td>na</td>\n",
       "      <td>19520.041226</td>\n",
       "      <td>39040.082453</td>\n",
       "    </tr>\n",
       "    <tr>\n",
       "      <th>1</th>\n",
       "      <td>512.801</td>\n",
       "      <td>na</td>\n",
       "      <td>na</td>\n",
       "      <td>19500.742003</td>\n",
       "      <td>39001.484006</td>\n",
       "    </tr>\n",
       "    <tr>\n",
       "      <th>2</th>\n",
       "      <td>513.364</td>\n",
       "      <td>na</td>\n",
       "      <td>na</td>\n",
       "      <td>19479.355779</td>\n",
       "      <td>38958.711557</td>\n",
       "    </tr>\n",
       "    <tr>\n",
       "      <th>3</th>\n",
       "      <td>513.814</td>\n",
       "      <td>na</td>\n",
       "      <td>na</td>\n",
       "      <td>19462.295695</td>\n",
       "      <td>38924.591389</td>\n",
       "    </tr>\n",
       "    <tr>\n",
       "      <th>4</th>\n",
       "      <td>514.152</td>\n",
       "      <td>43</td>\n",
       "      <td>0</td>\n",
       "      <td>19449.501315</td>\n",
       "      <td>38899.002630</td>\n",
       "    </tr>\n",
       "  </tbody>\n",
       "</table>\n",
       "</div>"
      ],
      "text/plain": [
       "   location vtop vbot      loc_wave    new column\n",
       "0   512.294   na   na  19520.041226  39040.082453\n",
       "1   512.801   na   na  19500.742003  39001.484006\n",
       "2   513.364   na   na  19479.355779  38958.711557\n",
       "3   513.814   na   na  19462.295695  38924.591389\n",
       "4   514.152   43    0  19449.501315  38899.002630"
      ]
     },
     "execution_count": 32,
     "metadata": {},
     "output_type": "execute_result"
    }
   ],
   "source": [
    "peaks.head()"
   ]
  },
  {
   "cell_type": "code",
   "execution_count": 34,
   "metadata": {},
   "outputs": [
    {
     "data": {
      "text/plain": [
       "[<matplotlib.lines.Line2D at 0x1ebe5889f90>,\n",
       " <matplotlib.lines.Line2D at 0x1ebe5889790>,\n",
       " <matplotlib.lines.Line2D at 0x1ebe58894d0>,\n",
       " <matplotlib.lines.Line2D at 0x1ebe588a6d0>,\n",
       " <matplotlib.lines.Line2D at 0x1ebe5688090>,\n",
       " <matplotlib.lines.Line2D at 0x1ebe588b190>,\n",
       " <matplotlib.lines.Line2D at 0x1ebe588b550>,\n",
       " <matplotlib.lines.Line2D at 0x1ebe588b850>,\n",
       " <matplotlib.lines.Line2D at 0x1ebe588bc50>,\n",
       " <matplotlib.lines.Line2D at 0x1ebe588b250>,\n",
       " <matplotlib.lines.Line2D at 0x1ebe581bb50>,\n",
       " <matplotlib.lines.Line2D at 0x1ebe58907d0>,\n",
       " <matplotlib.lines.Line2D at 0x1ebe5890bd0>,\n",
       " <matplotlib.lines.Line2D at 0x1ebe5890fd0>,\n",
       " <matplotlib.lines.Line2D at 0x1ebe58913d0>,\n",
       " <matplotlib.lines.Line2D at 0x1ebe58917d0>,\n",
       " <matplotlib.lines.Line2D at 0x1ebe5811b50>,\n",
       " <matplotlib.lines.Line2D at 0x1ebe5891f90>,\n",
       " <matplotlib.lines.Line2D at 0x1ebe5892350>,\n",
       " <matplotlib.lines.Line2D at 0x1ebe5892750>,\n",
       " <matplotlib.lines.Line2D at 0x1ebe5892b50>,\n",
       " <matplotlib.lines.Line2D at 0x1ebe5892f10>,\n",
       " <matplotlib.lines.Line2D at 0x1ebe5893310>,\n",
       " <matplotlib.lines.Line2D at 0x1ebe5818e90>]"
      ]
     },
     "execution_count": 34,
     "metadata": {},
     "output_type": "execute_result"
    },
    {
     "data": {
      "image/png": "[encoded data removed]",
      "text/plain": [
       "<Figure size 640x480 with 1 Axes>"
      ]
     },
     "metadata": {},
     "output_type": "display_data"
    }
   ],
   "source": [
    "plt.plot(bigX, bigY)\n",
    "#plt.xlim(580,600)\n",
    "#plt.ylim(0.1, 0.2)\n",
    "plt.plot((595.7, 595.7), (.1, .2), 'r')\n",
    "plt.plot((592.0, 592.0), (.1, .2), 'r')\n",
    "plt.plot((588.5, 588.5), (.1, .2), 'r')\n",
    "\n",
    "plt.plot((571.6, 571.6), (.15, .25), 'g')\n",
    "plt.plot((568.6, 568.6), (.15, .25), 'g')\n",
    "plt.plot((565.6, 565.5), (.15, .25), 'g')\n",
    "\n",
    "plt.plot((541.2, 541.2), (.2, .35), 'b')\n",
    "plt.plot((539, 539), (.2, .35), 'b')\n",
    "plt.plot((536.9, 536.9), (.2, .35), 'b')\n",
    "\n",
    "vbot2 = peaks.query('vbot==2')\n",
    "vbot2locations = np.array(vbot2[\"location\"])\n",
    "plt.plot((vbot2locations, vbot2locations), (.1, .3), 'k')\n",
    "\n",
    "vbot1 = peaks.query('vbot==1')\n",
    "vbot1locations = np.array(vbot1[\"location\"])\n",
    "plt.plot((vbot1locations, vbot1locations), (.1, .3), 'c')\n",
    "\n",
    "vbot0 = peaks.query('vbot==0')\n",
    "vbot0locations = np.array(vbot0[\"location\"])\n",
    "plt.plot((vbot0locations, vbot0locations), (.15, .35), 'purple')\n",
    "\n"
   ]
  },
  {
   "cell_type": "code",
   "execution_count": 35,
   "metadata": {},
   "outputs": [
    {
     "data": {
      "text/html": [
       "<div>\n",
       "<style scoped>\n",
       "    .dataframe tbody tr th:only-of-type {\n",
       "        vertical-align: middle;\n",
       "    }\n",
       "\n",
       "    .dataframe tbody tr th {\n",
       "        vertical-align: top;\n",
       "    }\n",
       "\n",
       "    .dataframe thead th {\n",
       "        text-align: right;\n",
       "    }\n",
       "</style>\n",
       "<table border=\"1\" class=\"dataframe\">\n",
       "  <thead>\n",
       "    <tr style=\"text-align: right;\">\n",
       "      <th></th>\n",
       "      <th>location</th>\n",
       "      <th>vtop</th>\n",
       "      <th>vbot</th>\n",
       "      <th>loc_wave</th>\n",
       "      <th>new column</th>\n",
       "    </tr>\n",
       "  </thead>\n",
       "  <tbody>\n",
       "    <tr>\n",
       "      <th>4</th>\n",
       "      <td>514.152</td>\n",
       "      <td>43</td>\n",
       "      <td>0</td>\n",
       "      <td>19449.501315</td>\n",
       "      <td>38899.002630</td>\n",
       "    </tr>\n",
       "    <tr>\n",
       "      <th>5</th>\n",
       "      <td>515.051</td>\n",
       "      <td>42</td>\n",
       "      <td>0</td>\n",
       "      <td>19415.553023</td>\n",
       "      <td>38831.106046</td>\n",
       "    </tr>\n",
       "    <tr>\n",
       "      <th>7</th>\n",
       "      <td>516.342</td>\n",
       "      <td>41</td>\n",
       "      <td>0</td>\n",
       "      <td>19367.008688</td>\n",
       "      <td>38734.017376</td>\n",
       "    </tr>\n",
       "    <tr>\n",
       "      <th>8</th>\n",
       "      <td>517.687</td>\n",
       "      <td>40</td>\n",
       "      <td>0</td>\n",
       "      <td>19316.691360</td>\n",
       "      <td>38633.382720</td>\n",
       "    </tr>\n",
       "    <tr>\n",
       "      <th>10</th>\n",
       "      <td>518.975</td>\n",
       "      <td>39</td>\n",
       "      <td>0</td>\n",
       "      <td>19268.750903</td>\n",
       "      <td>38537.501806</td>\n",
       "    </tr>\n",
       "  </tbody>\n",
       "</table>\n",
       "</div>"
      ],
      "text/plain": [
       "    location vtop vbot      loc_wave    new column\n",
       "4    514.152   43    0  19449.501315  38899.002630\n",
       "5    515.051   42    0  19415.553023  38831.106046\n",
       "7    516.342   41    0  19367.008688  38734.017376\n",
       "8    517.687   40    0  19316.691360  38633.382720\n",
       "10   518.975   39    0  19268.750903  38537.501806"
      ]
     },
     "execution_count": 35,
     "metadata": {},
     "output_type": "execute_result"
    }
   ],
   "source": [
    "vbot0.head()"
   ]
  },
  {
   "cell_type": "code",
   "execution_count": 141,
   "metadata": {},
   "outputs": [
    {
     "name": "stdout",
     "output_type": "stream",
     "text": [
      "3.4429999999999836\n",
      "3.7830000000000155\n",
      "2.439999999999941\n",
      "3.201000000000022\n"
     ]
    }
   ],
   "source": [
    "# The peak around 581 showed up twice. I'm checking spacing here to decide which one is a noise peak.\n",
    "print(peaks.iloc[49,0]-peaks.iloc[48,0])\n",
    "print(peaks.iloc[48,0]-peaks.iloc[47,0])\n",
    "print(peaks.iloc[47,0]-peaks.iloc[46,0])\n",
    "print(peaks.iloc[47,0]-peaks.iloc[45,0])"
   ]
  },
  {
   "cell_type": "markdown",
   "metadata": {},
   "source": [
    "Alright now that I've got peak assignments, I need to flip to wavenumbers and make a BS plot and a DS table.\n",
    "\n",
    "BS plot: dif between the thing and the thing next to it vs the quantum number"
   ]
  },
  {
   "cell_type": "code",
   "execution_count": 37,
   "metadata": {},
   "outputs": [
    {
     "data": {
      "text/plain": [
       "42"
      ]
     },
     "execution_count": 37,
     "metadata": {},
     "output_type": "execute_result"
    }
   ],
   "source": [
    "vbot0.iloc[1,1]"
   ]
  },
  {
   "cell_type": "code",
   "execution_count": 277,
   "metadata": {},
   "outputs": [
    {
     "data": {
      "text/plain": [
       "(0.0, 200.0)"
      ]
     },
     "execution_count": 277,
     "metadata": {},
     "output_type": "execute_result"
    },
    {
     "data": {
      "image/png": "[encoded data removed]",
      "text/plain": [
       "<Figure size 640x480 with 1 Axes>"
      ]
     },
     "metadata": {},
     "output_type": "display_data"
    }
   ],
   "source": [
    "\n",
    "numpeaks = vbot0.shape[0]\n",
    "bs0 = np.array([])\n",
    "vib0 = np.array([])\n",
    "for i in range(1,numpeaks): #ignore the first one row\n",
    "    bs0=np.append(bs0, vbot0.iloc[i-1, 3]-vbot0.iloc[i,3])\n",
    "    vib0 = np.append(vib0, vbot0.iloc[i, 1])\n",
    "    \n",
    "\n",
    "numpeaks = vbot1.shape[0]\n",
    "bs1 = np.array([])\n",
    "vib1 = np.array([])\n",
    "for i in range(1,numpeaks): #ignore the first one row\n",
    "    bs1=np.append(bs1, vbot1.iloc[i-1, 3]-vbot1.iloc[i,3])\n",
    "    vib1 = np.append(vib1, vbot1.iloc[i, 1])\n",
    "\n",
    "numpeaks = vbot2.shape[0]\n",
    "bs2 = np.array([])\n",
    "vib2 = np.array([])\n",
    "for i in range(1,numpeaks): #ignore the first one row\n",
    "    bs2=np.append(bs2, vbot2.iloc[i-1, 3]-vbot2.iloc[i,3])\n",
    "    vib2 = np.append(vib2, vbot2.iloc[i, 1])\n",
    "    \n",
    "plt.plot(vib0, bs0)\n",
    "plt.plot(vib1, bs1)\n",
    "plt.plot(vib2, bs2)\n",
    "plt.ylim(0,200)\n"
   ]
  }
 ],
 "metadata": {
  "kernelspec": {
   "display_name": "Python 3 (ipykernel)",
   "language": "python",
   "name": "python3"
  },
  "language_info": {
   "codemirror_mode": {
    "name": "ipython",
    "version": 3
   },
   "file_extension": ".py",
   "mimetype": "text/x-python",
   "name": "python",
   "nbconvert_exporter": "python",
   "pygments_lexer": "ipython3",
   "version": "3.13.1"
  }
 },
 "nbformat": 4,
 "nbformat_minor": 4
}
